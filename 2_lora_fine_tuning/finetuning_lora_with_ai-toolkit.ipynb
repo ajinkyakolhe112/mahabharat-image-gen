{
 "cells": [
  {
   "cell_type": "code",
   "execution_count": null,
   "metadata": {},
   "outputs": [],
   "source": [
    "%%bash\n",
    "cd ai-toolkit\n",
    "source venv/bin/activate\n",
    "\n",
    "python run.py config/train_lora_flux_24gb_mahabharat.yaml"
   ]
  },
  {
   "cell_type": "markdown",
   "metadata": {},
   "source": [
    "**Run this in terminal**\n",
    "\n",
    "```bash\n",
    "git clone https://github.com/ostris/ai-toolkit.git\n",
    "cd ai-toolkit\n",
    "git submodule update --init --recursive\n",
    "python3 -m venv venv\n",
    "source venv/bin/activate\n",
    "# .\\venv\\Scripts\\activate on windows\n",
    "# install torch first\n",
    "pip3 install torch\n",
    "pip3 install -r requirements.txt -v\n",
    "```"
   ]
  }
 ],
 "metadata": {
  "language_info": {
   "name": "python"
  }
 },
 "nbformat": 4,
 "nbformat_minor": 2
}
