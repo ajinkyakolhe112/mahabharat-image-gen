{
 "cells": [
  {
   "cell_type": "markdown",
   "metadata": {},
   "source": [
    "**Run this in terminal**\n",
    "\n",
    "```bash\n",
    "git clone https://github.com/ostris/ai-toolkit.git\n",
    "cd ai-toolkit\n",
    "git submodule update --init --recursive\n",
    "python3 -m venv venv\n",
    "source venv/bin/activate\n",
    "# .\\venv\\Scripts\\activate on windows\n",
    "# install torch first\n",
    "pip3 install torch\n",
    "pip3 install -r requirements.txt -v\n",
    "```"
   ]
  },
  {
   "cell_type": "markdown",
   "metadata": {},
   "source": [
    "!pip install 'lmdeploy>=0.4.0'\n",
    "!pip install git+https://github.com/haotian-liu/LLaVA.git --no-deps\n"
   ]
  },
  {
   "cell_type": "markdown",
   "metadata": {},
   "source": [
    "- place `training_configuration_for_ai-toolkit.yaml` in location `~./ai-toolkit/config`\n",
    "  - important flags in the yaml configuration\n",
    "  - `trigger_word`, `datasets.folder_path` or `model.name_or_path`"
   ]
  },
  {
   "cell_type": "markdown",
   "metadata": {},
   "source": [
    "## RUN via ai-toolkit\n",
    "- `cd ai-toolkit`\n",
    "- `python run.py config/train_lora_flux_24gb_mahabharat.yaml`"
   ]
  },
  {
   "cell_type": "markdown",
   "metadata": {},
   "source": [
    "Using runpod\n",
    "- packages installation time:\n",
    "  - started  at 1.56 PM\n",
    "  - finished at 2.36 PM\n",
    "  - required time = 40 minutes\n",
    "- "
   ]
  }
 ],
 "metadata": {
  "kernelspec": {
   "display_name": "base",
   "language": "python",
   "name": "python3"
  },
  "language_info": {
   "codemirror_mode": {
    "name": "ipython",
    "version": 3
   },
   "file_extension": ".py",
   "mimetype": "text/x-python",
   "name": "python",
   "nbconvert_exporter": "python",
   "pygments_lexer": "ipython3",
   "version": "3.12.2"
  }
 },
 "nbformat": 4,
 "nbformat_minor": 2
}
